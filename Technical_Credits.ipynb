{
 "cells": [
  {
   "cell_type": "code",
   "execution_count": 1,
   "metadata": {},
   "outputs": [],
   "source": [
    "#Dependencies\n",
    "import numpy as np\n",
    "import pandas as pd\n",
    "import datetime as dt\n",
    "import plotly.express as px\n",
    "import plotly.subplots as ps\n",
    "import plotly.graph_objects as go\n",
    "from plotly.subplots import make_subplots"
   ]
  },
  {
   "cell_type": "code",
   "execution_count": 9,
   "metadata": {},
   "outputs": [
    {
     "name": "stderr",
     "output_type": "stream",
     "text": [
      "c:\\Users\\Kevin McConchie\\anaconda3\\envs\\bootcamp\\lib\\site-packages\\pandas\\core\\frame.py:5047: SettingWithCopyWarning: \n",
      "A value is trying to be set on a copy of a slice from a DataFrame\n",
      "\n",
      "See the caveats in the documentation: https://pandas.pydata.org/pandas-docs/stable/user_guide/indexing.html#returning-a-view-versus-a-copy\n",
      "  errors=errors,\n"
     ]
    },
    {
     "data": {
      "text/html": [
       "<div>\n",
       "<style scoped>\n",
       "    .dataframe tbody tr th:only-of-type {\n",
       "        vertical-align: middle;\n",
       "    }\n",
       "\n",
       "    .dataframe tbody tr th {\n",
       "        vertical-align: top;\n",
       "    }\n",
       "\n",
       "    .dataframe thead th {\n",
       "        text-align: right;\n",
       "    }\n",
       "</style>\n",
       "<table border=\"1\" class=\"dataframe\">\n",
       "  <thead>\n",
       "    <tr style=\"text-align: right;\">\n",
       "      <th></th>\n",
       "      <th>Person</th>\n",
       "      <th>Movies_Contribution</th>\n",
       "      <th>Roles</th>\n",
       "      <th>Franchise_Box_Office</th>\n",
       "      <th>Career_Box Office</th>\n",
       "      <th>Percentage_Total_Box_Office</th>\n",
       "    </tr>\n",
       "  </thead>\n",
       "  <tbody>\n",
       "    <tr>\n",
       "      <th>1716</th>\n",
       "      <td>Kevin Feige</td>\n",
       "      <td>38</td>\n",
       "      <td>Producer (38)</td>\n",
       "      <td>28673854585</td>\n",
       "      <td>33587081326</td>\n",
       "      <td>0.854</td>\n",
       "    </tr>\n",
       "    <tr>\n",
       "      <th>1717</th>\n",
       "      <td>Louis DâEsposito</td>\n",
       "      <td>30</td>\n",
       "      <td>Executive Producer (30)</td>\n",
       "      <td>28408280726</td>\n",
       "      <td>29186519006</td>\n",
       "      <td>0.973</td>\n",
       "    </tr>\n",
       "    <tr>\n",
       "      <th>1718</th>\n",
       "      <td>Victoria Alonso</td>\n",
       "      <td>30</td>\n",
       "      <td>Executive Producer (26)</td>\n",
       "      <td>28408280726</td>\n",
       "      <td>28409152892</td>\n",
       "      <td>1</td>\n",
       "    </tr>\n",
       "    <tr>\n",
       "      <th>1719</th>\n",
       "      <td>NaN</td>\n",
       "      <td>NaN</td>\n",
       "      <td>Co-Producer (4)</td>\n",
       "      <td>NaN</td>\n",
       "      <td>NaN</td>\n",
       "      <td>NaN</td>\n",
       "    </tr>\n",
       "    <tr>\n",
       "      <th>1720</th>\n",
       "      <td>Stan Lee</td>\n",
       "      <td>27</td>\n",
       "      <td>Executive Producer (22)</td>\n",
       "      <td>26559804240</td>\n",
       "      <td>38890586167</td>\n",
       "      <td>0.683</td>\n",
       "    </tr>\n",
       "  </tbody>\n",
       "</table>\n",
       "</div>"
      ],
      "text/plain": [
       "                  Person Movies_Contribution                    Roles  \\\n",
       "1716         Kevin Feige                  38            Producer (38)   \n",
       "1717  Louis DâEsposito                  30  Executive Producer (30)   \n",
       "1718     Victoria Alonso                  30  Executive Producer (26)   \n",
       "1719                 NaN                 NaN          Co-Producer (4)   \n",
       "1720            Stan Lee                  27  Executive Producer (22)   \n",
       "\n",
       "     Franchise_Box_Office Career_Box Office Percentage_Total_Box_Office  \n",
       "1716          28673854585       33587081326                       0.854  \n",
       "1717          28408280726       29186519006                       0.973  \n",
       "1718          28408280726       28409152892                           1  \n",
       "1719                  NaN               NaN                         NaN  \n",
       "1720          26559804240       38890586167                       0.683  "
      ]
     },
     "execution_count": 9,
     "metadata": {},
     "output_type": "execute_result"
    }
   ],
   "source": [
    "#Read Excel file\n",
    "df = pd.read_excel('./Resources/The_Numbers_Data.xlsx')\n",
    "\n",
    "#create df\n",
    "tech_df = df.loc[1716:1981]\n",
    "\n",
    "#Labels for columns\n",
    "tech_df.rename(columns={'The Numbers - Where Data and Movies Meet':'Person',\n",
    "                          'Unnamed: 1':'Movies_Contribution', 'Unnamed: 2':'Roles','Unnamed: 3':'Franchise_Box_Office',\n",
    "                            'Unnamed: 4':'Career_Box_Office','Unnamed: 5':'Career/Franchise'}, inplace = True)\n",
    "\n",
    "tech_df.head()\n"
   ]
  },
  {
   "cell_type": "code",
   "execution_count": null,
   "metadata": {},
   "outputs": [],
   "source": []
  },
  {
   "cell_type": "code",
   "execution_count": null,
   "metadata": {},
   "outputs": [],
   "source": []
  },
  {
   "cell_type": "code",
   "execution_count": null,
   "metadata": {},
   "outputs": [],
   "source": []
  },
  {
   "cell_type": "code",
   "execution_count": null,
   "metadata": {},
   "outputs": [],
   "source": []
  },
  {
   "cell_type": "code",
   "execution_count": null,
   "metadata": {},
   "outputs": [],
   "source": []
  }
 ],
 "metadata": {
  "kernelspec": {
   "display_name": "bootcamp",
   "language": "python",
   "name": "python3"
  },
  "language_info": {
   "codemirror_mode": {
    "name": "ipython",
    "version": 3
   },
   "file_extension": ".py",
   "mimetype": "text/x-python",
   "name": "python",
   "nbconvert_exporter": "python",
   "pygments_lexer": "ipython3",
   "version": "3.7.13"
  },
  "orig_nbformat": 4
 },
 "nbformat": 4,
 "nbformat_minor": 2
}
